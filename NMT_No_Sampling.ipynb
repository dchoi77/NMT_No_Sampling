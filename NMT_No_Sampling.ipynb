{
 "cells": [
  {
   "cell_type": "markdown",
   "metadata": {},
   "source": [
    "Reference: https://github.com/joosthub/PyTorchNLPBook/blob/master/chapters/chapter_8/8_5_NMT/8_5_NMT_No_Sampling.ipynb\n",
    "\n",
    "English to French"
   ]
  },
  {
   "cell_type": "markdown",
   "metadata": {},
   "source": [
    "# Imports"
   ]
  },
  {
   "cell_type": "code",
   "execution_count": 122,
   "metadata": {},
   "outputs": [],
   "source": [
    "from argparse import Namespace \n",
    "from collections import Counter \n",
    "import json \n",
    "import os \n",
    "import string\n",
    "import numpy as np \n",
    "import pandas as pd\n",
    "import torch \n",
    "import torch.nn as nn \n",
    "from torch.nn.utils.rnn import pack_padded_sequence, pad_packed_sequence\n",
    "import torch.optim as optim \n",
    "from torch.utils.data import Dataset, DataLoader \n",
    "from tqdm.notebook import tqdm\n",
    "import matplotlib.pyplot as plt\n",
    "%matplotlib inline"
   ]
  },
  {
   "cell_type": "markdown",
   "metadata": {},
   "source": [
    "# Vocabulary"
   ]
  },
  {
   "cell_type": "code",
   "execution_count": 123,
   "metadata": {},
   "outputs": [],
   "source": [
    "class Vocabulary(object):\n",
    "    def __init__(self, token_to_idx=None):\n",
    "        \"\"\" token_to_idx (dict): a pre-existing map of tokens to indices \"\"\"\n",
    "\n",
    "        if token_to_idx is None:\n",
    "            token_to_idx = {}\n",
    "        self._token_to_idx = token_to_idx\n",
    "\n",
    "        self._idx_to_token = {idx: token for token, idx in self._token_to_idx.items()}\n",
    "        \n",
    "    def to_serializable(self):\n",
    "        return {'token_to_idx': self._token_to_idx}\n",
    "\n",
    "    @classmethod\n",
    "    def from_serializable(cls, contents):\n",
    "        \"\"\" contents is a dict with keys token_to_idx, add_unk, and unk_token \"\"\"\n",
    "        return cls(**contents)\n",
    "\n",
    "    def add_token(self, token):\n",
    "        \"\"\" token: str \"\"\"\n",
    "        if token in self._token_to_idx:\n",
    "            index = self._token_to_idx[token]\n",
    "        else:\n",
    "            index = len(self._token_to_idx)\n",
    "            self._token_to_idx[token] = index\n",
    "            self._idx_to_token[index] = token\n",
    "        return index\n",
    "    \n",
    "    def lookup_token(self, token):\n",
    "        return self._token_to_idx[token]\n",
    "\n",
    "    def lookup_index(self, index):\n",
    "        if index not in self._idx_to_token:\n",
    "            raise KeyError(\"the index (%d) is not in the Vocabulary\" % index)\n",
    "        return self._idx_to_token[index]\n",
    "\n",
    "    def __str__(self):\n",
    "        return \"<Vocabulary(size=%d)>\" % len(self)\n",
    "\n",
    "    def __len__(self):\n",
    "        return len(self._token_to_idx)\n",
    "    \n",
    "    \n",
    "class SequenceVocabulary(Vocabulary):\n",
    "    def __init__(self, token_to_idx=None, unk_token=\"<UNK>\", \n",
    "                 mask_token=\"<MASK>\", begin_seq_token=\"<BEGIN>\", end_seq_token=\"<END>\"):\n",
    "        \n",
    "        super(SequenceVocabulary, self).__init__(token_to_idx)\n",
    "\n",
    "        self._mask_token = mask_token\n",
    "        self._unk_token = unk_token        \n",
    "        self._begin_seq_token = begin_seq_token\n",
    "        self._end_seq_token = end_seq_token\n",
    "\n",
    "        self.mask_index = self.add_token(self._mask_token)\n",
    "        self.unk_index = self.add_token(self._unk_token) \n",
    "        self.begin_seq_index = self.add_token(self._begin_seq_token)\n",
    "        self.end_seq_index = self.add_token(self._end_seq_token)\n",
    "        \n",
    "    def to_serializable(self):\n",
    "        contents = super(SequenceVocabulary, self).to_serializable()\n",
    "        contents.update({'unk_token': self._unk_token,\n",
    "                         'mask_token': self._mask_token,\n",
    "                         'begin_seq_token': self._begin_seq_token,\n",
    "                         'end_seq_token': self._end_seq_token})\n",
    "        return contents\n",
    "\n",
    "    def lookup_token(self, token):\n",
    "        \"\"\" token: str \"\"\"\n",
    "        if self.unk_index >= 0:\n",
    "            return self._token_to_idx.get(token, self.unk_index)\n",
    "        else:\n",
    "            return self._token_to_idx[token]"
   ]
  },
  {
   "cell_type": "markdown",
   "metadata": {},
   "source": [
    "# Vectorizer"
   ]
  },
  {
   "cell_type": "code",
   "execution_count": 124,
   "metadata": {},
   "outputs": [],
   "source": [
    "class NMTVectorizer(object):\n",
    "    def __init__(self, source_vocab, target_vocab, max_source_length, max_target_length):\n",
    "        self.source_vocab = source_vocab\n",
    "        self.target_vocab = target_vocab\n",
    "        self.max_source_length = max_source_length    # this does not contain bos_idx and eos_idx\n",
    "        self.max_target_length = max_target_length    # this does not contain bos_idx and eos_idx\n",
    "\n",
    "    def _vectorize(self, indices, vector_length=-1, mask_index=0):\n",
    "        if vector_length < 0:\n",
    "            vector_length = len(indices)\n",
    "        vector = np.empty(vector_length, dtype=np.int64)\n",
    "        vector[:len(indices)] = indices\n",
    "        vector[len(indices):] = mask_index\n",
    "        return vector\n",
    "\n",
    "    def _get_source_indices(self, text):\n",
    "        indices = [self.source_vocab.begin_seq_index]\n",
    "        indices.extend(self.source_vocab.lookup_token(token) for token in text.split(\" \"))\n",
    "        indices.append(self.source_vocab.end_seq_index)\n",
    "        return indices\n",
    "    \n",
    "    def _get_target_indices(self, text):\n",
    "        indices = [self.target_vocab.lookup_token(token) for token in text.split(\" \")]\n",
    "        x_indices = [self.target_vocab.begin_seq_index] + indices\n",
    "        y_indices = indices + [self.target_vocab.end_seq_index]\n",
    "        return x_indices, y_indices\n",
    "\n",
    "    def vectorize(self, source_text, target_text, use_dataset_max_lengths=True):\n",
    "        # If use_dataset_max_lengths=False, then vectorize() returns vectors of different lengths.\n",
    "        # In this case, it will raise an error when getting a batch by using DataLoader.\n",
    "\n",
    "        source_vector_length = -1\n",
    "        target_vector_length = -1\n",
    "        \n",
    "        if use_dataset_max_lengths:\n",
    "            # All source (target) vectors have the same length.\n",
    "            source_vector_length = self.max_source_length + 2\n",
    "            target_vector_length = self.max_target_length + 1\n",
    "           \n",
    "        # If source_text = \"word1 word2 word3\",\n",
    "        # then source_vector = [bos_idx, idx1, idx2, idx3, eos_idx, mask_idx, ..., mask_idx]\n",
    "        source_indices = self._get_source_indices(source_text)\n",
    "        source_vector = self._vectorize(source_indices, \n",
    "                                        vector_length=source_vector_length, \n",
    "                                        mask_index=self.source_vocab.mask_index)\n",
    "\n",
    "        # If target_text = \"word1 word2 word3\" and target_indices = [idx1, idx2, idx3],\n",
    "        # then target_x_vector = [bos_idx, idx1, idx2, idx3, mask_idx, ..., mask_idx]\n",
    "        #  and target_y_vector = [idx1, idx2, idx3, eos_idx, mask_idx, ..., mask_idx]\n",
    "        target_x_indices, target_y_indices = self._get_target_indices(target_text)\n",
    "        target_x_vector = self._vectorize(target_x_indices, vector_length=target_vector_length,\n",
    "                                         mask_index=self.target_vocab.mask_index)\n",
    "        target_y_vector = self._vectorize(target_y_indices, vector_length=target_vector_length,\n",
    "                                         mask_index=self.target_vocab.mask_index)\n",
    "        \n",
    "        return {\"source_vector\": source_vector,\n",
    "               \"target_x_vector\": target_x_vector,\n",
    "               \"target_y_vector\": target_y_vector,\n",
    "               \"source_length\": len(source_indices)}   # len(source_indices) contains bos_idx and eos_idx\n",
    "        \n",
    "    @classmethod\n",
    "    def from_dataframe(cls, bitext_df):           \n",
    "        # bitext_df is the train subset of the original dataset\n",
    "        # max_source_length and max_target_length are the real max lengths (without \"<BEGIN>\" or \"<END>\")\n",
    "        # In vectorize(), if use_dataset_max_lengths=True, then\n",
    "        #   source_vector_length = max_source_length + 2\n",
    "        #   target_vector_length = max_target_length + 1\n",
    "        source_vocab = SequenceVocabulary()\n",
    "        target_vocab = SequenceVocabulary()\n",
    "\n",
    "        max_source_length = 0\n",
    "        max_target_length = 0\n",
    "        \n",
    "        for _, row in bitext_df.iterrows():\n",
    "            source_tokens = row[\"source_language\"].split(\" \")\n",
    "            if len(source_tokens) > max_source_length:\n",
    "                max_source_length = len(source_tokens)\n",
    "            for token in source_tokens:\n",
    "                source_vocab.add_token(token)\n",
    "                \n",
    "            target_tokens = row[\"target_language\"].split(\" \")\n",
    "            if len(target_tokens) > max_target_length:\n",
    "                max_target_length = len(target_tokens)\n",
    "            for token in target_tokens:\n",
    "                target_vocab.add_token(token)\n",
    "        \n",
    "        return cls(source_vocab, target_vocab, max_source_length, max_target_length)\n",
    "    \n",
    "    @classmethod\n",
    "    def from_serializable(cls, contents):\n",
    "        source_vocab = SequenceVocabulary.from_serializable(contents['source_vocab'])\n",
    "        target_vocab = SequenceVocabulary.from_serializable(contents['target_vocab'])\n",
    "        return cls(source_vocab=source_vocab, target_vocab=target_vocab,\n",
    "                  max_source_length=contents[\"max_source_length\"], max_target_length=contents[\"max_target_length\"])\n",
    "\n",
    "    def to_serializable(self):\n",
    "        return {'source_vocab': self.source_vocab.to_serializable(),\n",
    "                'target_vocab': self.target_vocab.to_serializable(),\n",
    "                'max_source_length': self.max_source_length,\n",
    "                'max_target_length': self.max_target_length}"
   ]
  },
  {
   "cell_type": "markdown",
   "metadata": {},
   "source": [
    "# Dataset"
   ]
  },
  {
   "cell_type": "code",
   "execution_count": 125,
   "metadata": {},
   "outputs": [],
   "source": [
    "class NMTDataset(Dataset):\n",
    "    def __init__(self, text_df, vectorizer):\n",
    "        self.text_df = text_df\n",
    "        self._vectorizer = vectorizer\n",
    "\n",
    "        self.train_df = self.text_df[self.text_df.split=='train']\n",
    "        self.train_size = len(self.train_df)\n",
    "\n",
    "        self.val_df = self.text_df[self.text_df.split=='val']\n",
    "        self.validation_size = len(self.val_df)\n",
    "\n",
    "        self.test_df = self.text_df[self.text_df.split=='test']\n",
    "        self.test_size = len(self.test_df)\n",
    "\n",
    "        self._lookup_dict = {'train': (self.train_df, self.train_size),\n",
    "                             'val': (self.val_df, self.validation_size),\n",
    "                             'test': (self.test_df, self.test_size)}\n",
    "\n",
    "        self.set_split('train')\n",
    "        \n",
    "    @classmethod\n",
    "    def load_dataset_and_make_vectorizer(cls, dataset_csv):\n",
    "        text_df = pd.read_csv(dataset_csv)\n",
    "        train_subset = text_df[text_df.split=='train'] # Create the vocabulary using train dataset.\n",
    "        return cls(text_df, NMTVectorizer.from_dataframe(train_subset))\n",
    "    \n",
    "    @classmethod\n",
    "    def load_dataset_and_load_vectorizer(cls, dataset_csv, vectorizer_filepath):\n",
    "        text_df = pd.read_csv(dataset_csv)\n",
    "        vectorizer = cls.load_vectorizer_only(vectorizer_filepath)\n",
    "        return cls(text_df, vectorizer)\n",
    "    \n",
    "    @staticmethod\n",
    "    def load_vectorizer_only(vectorizer_filepath):\n",
    "        with open(vectorizer_filepath) as fp:\n",
    "            return NMTVectorizer.from_serializable(json.load(fp))\n",
    "\n",
    "    def save_vectorizer(self, vectorizer_filepath):\n",
    "        with open(vectorizer_filepath, \"w\") as fp:\n",
    "            json.dump(self._vectorizer.to_serializable(), fp)\n",
    "\n",
    "    def get_vectorizer(self):\n",
    "        return self._vectorizer\n",
    "    \n",
    "    def set_split(self, split=\"train\"):\n",
    "        self._target_split = split\n",
    "        self._target_df, self._target_size = self._lookup_dict[split]\n",
    "\n",
    "    def __len__(self):\n",
    "        return self._target_size\n",
    "\n",
    "    # used in generate_batches()\n",
    "    def __getitem__(self, index):\n",
    "        row = self._target_df.iloc[index]\n",
    "        vector_dict = self._vectorizer.vectorize(row.source_language, row.target_language)\n",
    "                \n",
    "        return {'x_source': vector_dict['source_vector'],\n",
    "                'x_target': vector_dict['target_x_vector'],\n",
    "                'y_target': vector_dict['target_y_vector'],\n",
    "                'x_source_length': vector_dict['source_length']}  # contains bos_index and eos_index\n",
    "\n",
    "    def get_num_batches(self, batch_size):\n",
    "        return len(self) // batch_size"
   ]
  },
  {
   "cell_type": "code",
   "execution_count": 126,
   "metadata": {},
   "outputs": [],
   "source": [
    "# We sort the rows of each batch by x_source_length in decreasing order, \n",
    "# since we will use pack_padded_sequence() later.\n",
    "\n",
    "def generate_batches(dataset, batch_size, shuffle=True, drop_last=True, device=\"cpu\"):\n",
    "    dataloader = DataLoader(dataset=dataset, batch_size=batch_size, shuffle=shuffle, drop_last=drop_last)\n",
    "    \n",
    "    for data_dict in dataloader:\n",
    "        lengths = data_dict['x_source_length'].numpy()\n",
    "        sorted_length_indices = lengths.argsort()[::-1].tolist()\n",
    "\n",
    "        out_data_dict = {}      \n",
    "        for name, tensor in data_dict.items():\n",
    "            out_data_dict[name] = data_dict[name][sorted_length_indices].to(device)\n",
    "        yield out_data_dict"
   ]
  },
  {
   "cell_type": "markdown",
   "metadata": {},
   "source": [
    "# Model\n",
    "\n",
    "## Encoder\n",
    "\n",
    "`pack_padded_sequence()` and `pad_packed_sequence()` are used in encoder.forward()."
   ]
  },
  {
   "cell_type": "code",
   "execution_count": 127,
   "metadata": {},
   "outputs": [],
   "source": [
    "class NMTEncoder(nn.Module):\n",
    "    def __init__(self, num_embeddings, embedding_size, rnn_hidden_size):\n",
    "        \n",
    "        super(NMTEncoder, self).__init__()\n",
    "        \n",
    "        self.source_embedding = nn.Embedding(num_embeddings, embedding_size, padding_idx=0)\n",
    "        self.birnn = nn.GRU(embedding_size, rnn_hidden_size, bidirectional=True, batch_first=True)\n",
    "        \n",
    "    def forward(self, x_source, x_lengths):\n",
    "        # x_source.shape: (batch_size, seq_size)\n",
    "        # len(x_lengths) == batch_size\n",
    "        # x_lengths[0] == source_length of x_source[0]\n",
    "        x_embedded = self.source_embedding(x_source)  # (batch_size, seq_size, embedding_size)   \n",
    "        x_packed = pack_padded_sequence(x_embedded, x_lengths.detach().cpu().numpy(), batch_first=True)\n",
    "            # PackedSequence\n",
    "            # x_packed.data.shape: (sum(x_lengths), embedding_size)\n",
    "        \n",
    "        x_birnn_out, x_birnn_h = self.birnn(x_packed) \n",
    "            # both outputs: PackedSequence objects  \n",
    "            # x_birnn_out.data.shape: (sum(x_lengths), 2*rnn_hidden_size)\n",
    "            # x_birnn_h.data.shape: (2, batch_size, rnn_hidden_size)\n",
    "            # note: 2 = num_layers * num_directions = 1 * 2\n",
    "            \n",
    "        x_unpacked, _ = pad_packed_sequence(x_birnn_out, batch_first=True)\n",
    "            # x_unpacked.shape: (batch_size, max_seq_length, 2*rnn_hidden_size), \n",
    "            # where max_seq_length=x_lengths[0].\n",
    "            # In pad_packed_sequence(), padding_value=0.0 is set by default.\n",
    "            # If x_lengths = [3, 1], x_unpacked[1, 1:, :] consists only of zeros.\n",
    "            \n",
    "        x_birnn_h = x_birnn_h.permute(1, 0, 2)\n",
    "            # x_birnn_h.data.shape: (batch_size, 2, rnn_hidden_size)\n",
    "        x_birnn_h = x_birnn_h.contiguous().view(x_birnn_h.size(0), -1)\n",
    "            # x_birnn_h.data.shape: (batch_size, 2*rnn_hidden_size)\n",
    "            \n",
    "        return x_unpacked, x_birnn_h\n",
    "        # x_unpacked is encoder_state and x_birnn_h is final_hidden_states.\n",
    "        #   x_unpacked.shape: (batch_size, x_lengths[0], 2*rnn_hidden_size)\n",
    "        #   x_birnn_h.shape:  (batch_size, 2*rnn_hidden_size)\n",
    "        # Note that x_lengths[0] is the maximum source length in the given batch.\n",
    "        #   Thus x_unpacked.shape()[1] differes over batches.\n",
    "        # 2*rnn_hidden_size is decoder_rnn_hidden_size."
   ]
  },
  {
   "cell_type": "markdown",
   "metadata": {},
   "source": [
    "## Attention\n",
    "\n",
    "Assume batch_size = 1.\n",
    "\n",
    "* $\\mathbf{s}_1,\\ldots,\\mathbf{s}_m$: the encoder state vectors of a given source text, where $\\mathbf{s}_t \\in \\mathbb{R}^h$ and h = decoder_rnn_hidden_size = 2 * encoder_rnn_hidden_size.\n",
    "\n",
    "* $\\mathbf{q} \\in \\mathbb{R}^h$: the current hidden vector in the decoder\n",
    "\n",
    "* vector_scores = $(\\mathbf{s}_1^T \\mathbf{q}, \\ldots, \\mathbf{s}_m^T \\mathbf{q}) \\in \\mathbb{R}^m$\n",
    "\n",
    "* vector_probabilities = softmax(vector_scores) = $(p_1,\\ldots,p_m)$\n",
    "\n",
    "* context_vector = $p_1 \\mathbf{s}_1 + \\cdots + p_m \\mathbf{s}_m \\in \\mathbb{R}^h$"
   ]
  },
  {
   "cell_type": "code",
   "execution_count": 128,
   "metadata": {},
   "outputs": [],
   "source": [
    "# The outputs of verbose_attenion() and terse_attention() are identical.\n",
    "\n",
    "def verbose_attention(encoder_state_vectors, query_vector):\n",
    "    # Inputs\n",
    "    #   encoder_state_vectors.shape: (batch_size, x_lengths[0], 2*rnn_hidden_size)\n",
    "    #   query_vector: hidden state in decoder GRU; (batch_size, 2*rnn_hidden_size)\n",
    "    # Outputs\n",
    "    #  context_vectors.shape: (batch_size, 2*rnn_hidden_size)\n",
    "    #  vector_probabilities.shape: (batch_size, 2*rnn_hidden_size)\n",
    "    \n",
    "    batch_size, num_vectors, vector_size = encoder_state_vectors.size()\n",
    "    vector_scores = torch.sum(encoder_state_vectors * query_vector.view(batch_size, 1, vector_size), dim=2)\n",
    "        # vector_scores.shape: (batch_size, seq_size)\n",
    "    vector_probabilities = torch.softmax(vector_scores, dim=1)\n",
    "    weighted_vectors = encoder_state_vectors * vector_probabilities.view(batch_size, num_vectors, 1)\n",
    "    context_vectors = torch.sum(weighted_vectors, dim=1)\n",
    "    return context_vectors, vector_probabilities\n",
    "\n",
    "def terse_attention(encoder_state_vectors, query_vector):\n",
    "    # encoder_state_vectors.shape = (batch_size, seq_size, 2*rnn_hidden_size)\n",
    "    # query_vector.shape = (batch_size, 2*rnn_hidden_size)\n",
    "    vector_scores = torch.matmul(encoder_state_vectors, query_vector.unsqueeze(dim=2)).squeeze()\n",
    "        # vector_scores.shape before squeeze(): (batch_size, seq_size, 1)\n",
    "        # vector_scores here is equal to vector_scores in verbose_attention()\n",
    "    vector_probabilities = torch.softmax(vector_scores, dim=-1)\n",
    "        # dim=-1 is equal to dim=1\n",
    "    context_vectors = torch.matmul(encoder_state_vectors.transpose(-2,-1), vector_probabilities.unsqueeze(dim=2)).squeeze()\n",
    "    return context_vectors, vector_probabilities"
   ]
  },
  {
   "cell_type": "markdown",
   "metadata": {},
   "source": [
    "## Decoder\n",
    "\n",
    "Assume batch_size = 1.\n",
    "\n",
    "1. $\\mathbf{y}_t \\in \\mathbb{R}^l $ = the embedded vector at time $t$, where $l$ = embedding_size \n",
    "\n",
    "1. Concatenate $\\mathbf{y}_t$ and the previous context vector $\\mathbf{c}_{t-1} \\in \\mathbb{R}^h$, where $h$ = rnn_hidden_size; rnn_input = $[\\mathbf{y}_t \\; \\mathbf{c}_{t-1}] \\in \\mathbb{R}^{l+h}$\n",
    "\n",
    "1. $\\mathbf{h}_t$ = GRU(rnn_input, $\\mathbf{h}_{t-1}$), where $\\mathbf{h}_t\\in\\mathbb{R}^h$ is the hidden state of the decoder at time $t$.\n",
    "\n",
    "1. $\\mathbf{c}_t$ = attention(encoder_state, $\\mathbf{h}_t$)\n",
    "\n",
    "1. output$_t$ = FC$([\\mathbf{c}_t \\; \\mathbf{h}_t]\\in \\mathbb{R}^v$, where $v$ = target_vocab_size.\n",
    "\n",
    "Generally, for a given target_sequence (a minibatch of shape (batch_size, target_seq_size)), the output of the decoder is of shape (batch_size, target_seq_size, target_vocab_size)."
   ]
  },
  {
   "cell_type": "code",
   "execution_count": 129,
   "metadata": {},
   "outputs": [],
   "source": [
    "class NMTDecoder(nn.Module):\n",
    "    def __init__(self, num_embeddings, embedding_size, rnn_hidden_size, bos_index, dropout_p=0.3):\n",
    "        # rnn_hidden_size is 2 * encoder_rnn_hidden_size\n",
    "        # num_embeddings is target_vocab_size\n",
    "        \n",
    "        super(NMTDecoder, self).__init__()\n",
    "        self._rnn_hidden_size = rnn_hidden_size\n",
    "        self.target_embedding = nn.Embedding(num_embeddings=num_embeddings, embedding_dim=embedding_size, padding_idx=0)\n",
    " \n",
    "        self.gru_cell = nn.GRUCell(embedding_size + rnn_hidden_size, rnn_hidden_size)\n",
    "        self.hidden_map = nn.Linear(rnn_hidden_size, rnn_hidden_size)\n",
    "        self.classifier = nn.Linear(rnn_hidden_size*2, num_embeddings)\n",
    "        self.bos_index = bos_index\n",
    "        self.dropout = nn.Dropout(dropout_p)\n",
    "\n",
    "    def _init_indices(self, batch_size):\n",
    "        return torch.ones(batch_size, dtype=torch.int64) * self.bos_index\n",
    "    \n",
    "    def _init_context_vectors(self, batch_size):\n",
    "        return torch.zeros(batch_size, self._rnn_hidden_size)\n",
    "    \n",
    "    def forward(self, encoder_state, initial_hidden_state, target_sequence):\n",
    "        # encoder_state: the output of the NMTEncoder; shape (batch_size, input_seq_size, rnn_hidden_size)\n",
    "        # initial_hidden_state: the last hidden state in the NMTEncoder; shape (batch_size, rnn_hidden_size)\n",
    "        # target_sequence.shape: (batch_size, output_seq_size)\n",
    "        \n",
    "        target_sequence = target_sequence.permute(1, 0)   # (output_seq_size, batch_size)\n",
    "        output_sequence_size = target_sequence.size(0)\n",
    "        \n",
    "        h_t = self.hidden_map(initial_hidden_state)       # (batch_size, rnn_hidden_size)\n",
    "        \n",
    "        batch_size = encoder_state.size(0)\n",
    "        \n",
    "        context_vectors = self._init_context_vectors(batch_size) # (batch_size, rnn_hidden_size)\n",
    "        \n",
    "        y_t_index = self._init_indices(batch_size)\n",
    "        \n",
    "        h_t = h_t.to(encoder_state.device)\n",
    "        y_t_index = y_t_index.to(encoder_state.device)\n",
    "        context_vectors = context_vectors.to(encoder_state.device)\n",
    "        \n",
    "        output_vectors = []\n",
    "        self._cached_p_attn = []\n",
    "        self._cached_ht = []\n",
    "        self._cached_decoder_state = encoder_state.cpu().detach().numpy()\n",
    "        \n",
    "        for i in range(output_sequence_size):\n",
    "            y_t_index = target_sequence[i]      # target_sequence.shape: (output_seq_size, batch_size)\n",
    "                                                # y_t_index.shape: (batch_size,)\n",
    "            y_input_vector = self.target_embedding(y_t_index)   # shape: (batch_size, embedding_size)\n",
    "\n",
    "            rnn_input = torch.cat([y_input_vector, context_vectors], dim=1) # (batch_size, embedding_size + hidden_size)\n",
    "            \n",
    "            h_t = self.gru_cell(rnn_input, h_t)\n",
    "            self._cached_ht.append(h_t.cpu().detach().numpy())\n",
    "            \n",
    "            context_vectors, p_attn = verbose_attention(encoder_state_vectors=encoder_state, query_vector=h_t)\n",
    "                # p_attn.shape: (batch_size, input_seq_size)\n",
    "                # len(self._cached_p_attn): output_seq_size\n",
    "                # context_vectors.shape: (batch_size, rnn_hidden_size)\n",
    "            self._cached_p_attn.append(p_attn.cpu().detach().numpy())\n",
    "            \n",
    "            prediction_vector = torch.cat((context_vectors, h_t), dim=1) # (batch_size, 2*rnn_hidden_size)\n",
    "            score_for_y_t_index = self.classifier(self.dropout(prediction_vector)) # (batch_size, num_embeddings)\n",
    "            \n",
    "            output_vectors.append(score_for_y_t_index)\n",
    "            \n",
    "        output_vectors = torch.stack(output_vectors).permute(1, 0, 2)\n",
    "        \n",
    "        return output_vectors \n",
    "        # (batch_size, target_vector_length, num_embeddings)\n",
    "        # note: target_vector_length does not depend on batches and num_embeddings = target_vocab_size"
   ]
  },
  {
   "cell_type": "markdown",
   "metadata": {},
   "source": [
    "## Model"
   ]
  },
  {
   "cell_type": "code",
   "execution_count": 130,
   "metadata": {},
   "outputs": [],
   "source": [
    "class NMTModel(nn.Module):\n",
    "    def __init__(self, source_vocab_size, source_embedding_size, \n",
    "                target_vocab_size, target_embedding_size, encoding_size, target_bos_index):\n",
    "        super(NMTModel, self).__init__()\n",
    "        self.encoder = NMTEncoder(num_embeddings=source_vocab_size, \n",
    "                                  embedding_size=source_embedding_size, \n",
    "                                  rnn_hidden_size=encoding_size)\n",
    "        decoding_size = 2 * encoding_size\n",
    "        self.decoder = NMTDecoder(num_embeddings=target_vocab_size,\n",
    "                                 embedding_size=target_embedding_size,\n",
    "                                 rnn_hidden_size=decoding_size,\n",
    "                                 bos_index=target_bos_index)\n",
    "        \n",
    "    def forward(self, x_source, x_source_lengths, target_sequence):\n",
    "        encoder_state, final_hidden_states = self.encoder(x_source, x_source_lengths)\n",
    "            # encoder_state.shape: (batch_size, x_source_lengths[0], 2*encoder_rnn_hidden_size)\n",
    "            # final_hidden_states.shape: (batch_size, 2*encoder_rnn_hidden_size)\n",
    "        decoded_states = self.decoder(encoder_state=encoder_state, \n",
    "                                      initial_hidden_state=final_hidden_states, \n",
    "                                      target_sequence=target_sequence)\n",
    "        return decoded_states"
   ]
  },
  {
   "cell_type": "markdown",
   "metadata": {},
   "source": [
    "# Helper functions"
   ]
  },
  {
   "cell_type": "code",
   "execution_count": 131,
   "metadata": {},
   "outputs": [],
   "source": [
    "def make_train_state(args):\n",
    "    return {'stop_early': False,\n",
    "            'early_stopping_step': 0,\n",
    "            'early_stopping_best_val': 1e8,\n",
    "            'learning_rate': args.learning_rate,\n",
    "            'epoch_index': 0,\n",
    "            'train_loss': [],\n",
    "            'train_acc': [],\n",
    "            'val_loss': [],\n",
    "            'val_acc': [],\n",
    "            'test_loss': -1,\n",
    "            'test_acc': -1,\n",
    "            'model_filename': args.model_state_file}\n",
    "\n",
    "\n",
    "# update_train_state() is called at the end of each epoch of the validation process.\n",
    "\n",
    "def update_train_state(args, model, train_state):\n",
    "    if train_state['epoch_index'] == 0:\n",
    "        torch.save(model.state_dict(), train_state['model_filename'])\n",
    "        train_state['stop_early'] = False\n",
    "    else:\n",
    "        loss_t = train_state['val_loss'][-1]\n",
    "\n",
    "        if loss_t >= train_state['early_stopping_best_val']:\n",
    "            train_state['early_stopping_step'] += 1\n",
    "        else:\n",
    "            torch.save(model.state_dict(), train_state['model_filename'])\n",
    "            train_state['early_stopping_step'] = 0\n",
    "\n",
    "        train_state['stop_early'] = train_state['early_stopping_step'] >= args.early_stopping_criteria\n",
    "\n",
    "    return train_state\n",
    "\n",
    "\n",
    "def normalize_sizes(y_pred, y_true):\n",
    "    if len(y_pred.size()) == 3:                               # If y_pred.shape is (batch_size, seq_size, vocab_size),\n",
    "        y_pred = y_pred.contiguous().view(-1, y_pred.size(2)) # change it to (batch_size*seq_size, vocab_size)\n",
    "    if len(y_true.size()) == 2:\n",
    "        y_true = y_true.contiguous().view(-1)                   # If y_true.shape is (batch_size, seq_size),\n",
    "    return y_pred, y_true                                     # change it to (batch_size*seq_size)\n",
    "    \n",
    "def compute_accuracy(y_pred, y_true, mask_index):\n",
    "    y_pred, y_true = normalize_sizes(y_pred, y_true)\n",
    "    _, y_pred_indices = y_pred.max(dim=1)\n",
    "\n",
    "    correct_indices = torch.eq(y_pred_indices, y_true).float()\n",
    "    valid_indices = torch.ne(y_true, mask_index).float()\n",
    "\n",
    "    n_correct = (correct_indices * valid_indices).sum().item()\n",
    "    n_valid = valid_indices.sum().item()\n",
    "    return n_correct / n_valid * 100\n",
    "\n",
    "\n",
    "def sequence_loss(y_pred, y_true, mask_index):\n",
    "    # y_pred.shape: (batch_size*seq_size, char_vocab_size)\n",
    "    # y_true.shape: (batch_size, seq_size)\n",
    "    y_pred, y_true = normalize_sizes(y_pred, y_true)\n",
    "    # y_pred.shape: (batch_size*seq_size, char_vocab_size)\n",
    "    # y_true.shape: (batch_size*seq_size,)\n",
    "    return nn.functional.cross_entropy(y_pred, y_true, ignore_index=mask_index)\n",
    "\n",
    "\n",
    "def set_seed_everywhere(seed, cuda):\n",
    "    np.random.seed(seed)\n",
    "    torch.manual_seed(seed)\n",
    "    if cuda:\n",
    "        torch.cuda.manual_seed_all(seed)\n",
    "\n",
    "def handle_dirs(dirpath):\n",
    "    if not os.path.exists(dirpath):\n",
    "        os.makedirs(dirpath)"
   ]
  },
  {
   "cell_type": "markdown",
   "metadata": {},
   "source": [
    "# Settings"
   ]
  },
  {
   "cell_type": "code",
   "execution_count": 132,
   "metadata": {},
   "outputs": [
    {
     "name": "stdout",
     "output_type": "stream",
     "text": [
      "Expanded filepaths: \n",
      "\tmodel_storage/vectorizer.json\n",
      "\tmodel_storage/model.pth\n",
      "Using CUDA: False\n"
     ]
    }
   ],
   "source": [
    "args = Namespace(\n",
    "    # Data and Path information\n",
    "    model_state_file='model.pth',\n",
    "    dataset_csv='../data/simplest_eng_fra.csv',\n",
    "    save_dir='model_storage/',\n",
    "    vectorizer_file='vectorizer.json',\n",
    "    # Model hyper parameters\n",
    "    char_embedding_size=32,\n",
    "    rnn_hidden_size=32,\n",
    "    # Training hyper parameters\n",
    "    batch_size=64,\n",
    "    early_stopping_criteria=5,\n",
    "    learning_rate=5e-4,\n",
    "    num_epochs=10,\n",
    "    seed=1337,\n",
    "    source_embedding_size=64,\n",
    "    target_embedding_size=64,\n",
    "    encoding_size=64,   # rnn_hidden_size\n",
    "    # Runtime options\n",
    "    cuda=True,\n",
    "    expand_filepaths_to_save_dir=True,\n",
    "    reload_from_files=False,\n",
    ")\n",
    "\n",
    "if args.expand_filepaths_to_save_dir:\n",
    "    args.vectorizer_file = os.path.join(args.save_dir, args.vectorizer_file)\n",
    "    args.model_state_file = os.path.join(args.save_dir, args.model_state_file)\n",
    "    \n",
    "    print(\"Expanded filepaths: \")\n",
    "    print(\"\\t{}\".format(args.vectorizer_file))\n",
    "    print(\"\\t{}\".format(args.model_state_file))\n",
    "    \n",
    "if not torch.cuda.is_available():\n",
    "    args.cuda = False\n",
    "\n",
    "print(\"Using CUDA: {}\".format(args.cuda))\n",
    "\n",
    "args.device = torch.device(\"cuda\" if args.cuda else \"cpu\")\n",
    "\n",
    "# Set seed for reproducibility\n",
    "set_seed_everywhere(args.seed, args.cuda)\n",
    "\n",
    "# handle dirs\n",
    "handle_dirs(args.save_dir)"
   ]
  },
  {
   "cell_type": "markdown",
   "metadata": {},
   "source": [
    "# Initialization"
   ]
  },
  {
   "cell_type": "code",
   "execution_count": 133,
   "metadata": {},
   "outputs": [
    {
     "name": "stdout",
     "output_type": "stream",
     "text": [
      "Loading dataset and creating vectorizer\n",
      "New model\n"
     ]
    }
   ],
   "source": [
    "if args.reload_from_files and os.path.exists(args.vectorizer_file):\n",
    "    print(\"Loading dataset and vectorizer\")\n",
    "    dataset = NMTDataset.load_dataset_and_load_vectorizer(args.dataset_csv, args.vectorizer_file)\n",
    "else:\n",
    "    print(\"Loading dataset and creating vectorizer\")\n",
    "    dataset = NMTDataset.load_dataset_and_make_vectorizer(args.dataset_csv)\n",
    "    dataset.save_vectorizer(args.vectorizer_file)    \n",
    "\n",
    "vectorizer = dataset.get_vectorizer()\n",
    "# vectorizer.max_source_length, vectorizer.max_target_length\n",
    "# 23, 24\n",
    "model = NMTModel(source_vocab_size=len(vectorizer.source_vocab),\n",
    "                source_embedding_size=args.source_embedding_size,\n",
    "                target_vocab_size=len(vectorizer.target_vocab),\n",
    "                target_embedding_size=args.target_embedding_size,\n",
    "                encoding_size=args.encoding_size,\n",
    "                target_bos_index=vectorizer.target_vocab.begin_seq_index)\n",
    "\n",
    "\n",
    "if args.reload_from_files and os.path.exists(args.model_state_file):\n",
    "    model.load_state_dict(torch.load(args.model_state_file))\n",
    "    print(\"Reloaded model\")\n",
    "else:\n",
    "    print(\"New model\")"
   ]
  },
  {
   "cell_type": "markdown",
   "metadata": {},
   "source": [
    "# Training loop"
   ]
  },
  {
   "cell_type": "code",
   "execution_count": 134,
   "metadata": {},
   "outputs": [
    {
     "data": {
      "application/vnd.jupyter.widget-view+json": {
       "model_id": "5fbc29008a30488d8c1367a507993da6",
       "version_major": 2,
       "version_minor": 0
      },
      "text/plain": [
       "HBox(children=(HTML(value='training routine'), FloatProgress(value=0.0, max=10.0), HTML(value='')))"
      ]
     },
     "metadata": {},
     "output_type": "display_data"
    },
    {
     "data": {
      "application/vnd.jupyter.widget-view+json": {
       "model_id": "6cacd937e1bb4b94add2cc5755da1c10",
       "version_major": 2,
       "version_minor": 0
      },
      "text/plain": [
       "HBox(children=(HTML(value='split=train'), FloatProgress(value=0.0, max=142.0), HTML(value='')))"
      ]
     },
     "metadata": {},
     "output_type": "display_data"
    },
    {
     "data": {
      "application/vnd.jupyter.widget-view+json": {
       "model_id": "a5318d18969142e4ba89f0ff6decaa32",
       "version_major": 2,
       "version_minor": 0
      },
      "text/plain": [
       "HBox(children=(HTML(value='split=val'), FloatProgress(value=0.0, max=30.0), HTML(value='')))"
      ]
     },
     "metadata": {},
     "output_type": "display_data"
    }
   ],
   "source": [
    "mask_index = vectorizer.target_vocab.mask_index\n",
    "\n",
    "model = model.to(args.device)\n",
    "\n",
    "optimizer = optim.Adam(model.parameters(), lr=args.learning_rate)\n",
    "\n",
    "scheduler = optim.lr_scheduler.ReduceLROnPlateau(optimizer=optimizer, mode='min', factor=0.5, patience=1)\n",
    "# scheduler.step(train_state['val_loss'][-1]) is called at the end of each epoch of the validation process. \n",
    "# Then the scheduler adjusts the learning rate based on the latest validation loss.\n",
    "\n",
    "train_state = make_train_state(args)\n",
    "\n",
    "epoch_bar = tqdm(desc='training routine', total=args.num_epochs, position=0)\n",
    "\n",
    "dataset.set_split('train')\n",
    "train_bar = tqdm(desc='split=train', total=dataset.get_num_batches(args.batch_size), position=1, leave=True)\n",
    "\n",
    "dataset.set_split('val')\n",
    "val_bar = tqdm(desc='split=val', total=dataset.get_num_batches(args.batch_size), position=1, leave=True)\n",
    "\n",
    "try:\n",
    "    for epoch_index in range(args.num_epochs):\n",
    "        train_state['epoch_index'] = epoch_index\n",
    "\n",
    "        dataset.set_split('train')\n",
    "        \n",
    "        batch_generator = generate_batches(dataset, batch_size=args.batch_size, device=args.device)\n",
    "        running_loss = 0.0\n",
    "        running_acc = 0.0\n",
    "\n",
    "        model.train()\n",
    "\n",
    "        for batch_index, batch_dict in enumerate(batch_generator):\n",
    "            optimizer.zero_grad()\n",
    "            y_pred = model(batch_dict['x_source'], batch_dict['x_source_length'], batch_dict['x_target'])\n",
    "            loss = sequence_loss(y_pred, batch_dict['y_target'], mask_index)\n",
    "            loss.backward()                                                 \n",
    "            optimizer.step()\n",
    "            running_loss += (loss.item() - running_loss) / (batch_index + 1)\n",
    "            \n",
    "            acc_t = compute_accuracy(y_pred, batch_dict['y_target'], mask_index)\n",
    "            running_acc += (acc_t - running_acc) / (batch_index + 1)\n",
    "\n",
    "            train_bar.set_postfix(loss=running_loss, acc=running_acc, epoch=epoch_index)\n",
    "            train_bar.update()\n",
    "\n",
    "        train_state['train_loss'].append(running_loss)\n",
    "        train_state['train_acc'].append(running_acc)\n",
    "\n",
    "        dataset.set_split('val')\n",
    "        \n",
    "        batch_generator = generate_batches(dataset, batch_size=args.batch_size, device=args.device)\n",
    "        running_loss = 0.\n",
    "        running_acc = 0.\n",
    "\n",
    "        model.eval()\n",
    "        \n",
    "        for batch_index, batch_dict in enumerate(batch_generator):\n",
    "            y_pred = model(batch_dict['x_source'], batch_dict['x_source_length'], batch_dict['x_target'])\n",
    "            loss = sequence_loss(y_pred, batch_dict['y_target'], mask_index)\n",
    "\n",
    "            running_loss += (loss.item() - running_loss) / (batch_index + 1)\n",
    "\n",
    "            acc_t = compute_accuracy(y_pred, batch_dict['y_target'], mask_index)\n",
    "            running_acc += (acc_t - running_acc) / (batch_index + 1)\n",
    "            \n",
    "            val_bar.set_postfix(loss=running_loss, acc=running_acc, epoch=epoch_index)\n",
    "            val_bar.update()\n",
    "\n",
    "        train_state['val_loss'].append(running_loss)\n",
    "        train_state['val_acc'].append(running_acc)\n",
    "\n",
    "        train_state = update_train_state(args=args, model=model, train_state=train_state)\n",
    "\n",
    "        if train_state['stop_early']:\n",
    "            break\n",
    " \n",
    "        scheduler.step(train_state['val_loss'][-1])\n",
    "        train_bar.n = 0\n",
    "        val_bar.n = 0\n",
    "        \n",
    "        epoch_bar.update()\n",
    "\n",
    "except KeyboardInterrupt:\n",
    "    print(\"Exiting loop\")"
   ]
  },
  {
   "cell_type": "code",
   "execution_count": 135,
   "metadata": {},
   "outputs": [
    {
     "data": {
      "image/png": "[encoded data removed]",
      "text/plain": [
       "<Figure size 720x288 with 2 Axes>"
      ]
     },
     "metadata": {
      "needs_background": "light"
     },
     "output_type": "display_data"
    }
   ],
   "source": [
    "epochs = range(0, epoch_index+1)\n",
    "fig = plt.figure(figsize=(10, 4))\n",
    "ax = fig.add_subplot(121)\n",
    "ax.plot(epochs, train_state['train_loss'], label=\"train_loss\")\n",
    "ax.plot(epochs, train_state['val_loss'], label=\"val_loss\")\n",
    "ax.legend();\n",
    "\n",
    "ax = fig.add_subplot(122)\n",
    "ax.plot(epochs, train_state['train_acc'], label=\"train_acc\")\n",
    "ax.plot(epochs, train_state['val_acc'], label=\"val_acc\")\n",
    "ax.legend();"
   ]
  },
  {
   "cell_type": "markdown",
   "metadata": {},
   "source": [
    "# Performance"
   ]
  },
  {
   "cell_type": "code",
   "execution_count": 136,
   "metadata": {},
   "outputs": [],
   "source": [
    "from nltk.translate import bleu_score\n",
    "import seaborn as sns\n",
    "import matplotlib.pyplot as plt\n",
    "\n",
    "chencherry = bleu_score.SmoothingFunction()\n",
    "\n",
    "def sentence_from_indices(indices, vocab, strict=True, return_string=True):\n",
    "    ignore_indices = set([vocab.mask_index, vocab.begin_seq_index, vocab.end_seq_index])\n",
    "    out = []\n",
    "    \n",
    "    for index in indices:\n",
    "        if index == vocab.begin_seq_index and strict:\n",
    "            continue\n",
    "        elif index == vocab.end_seq_index and strict:\n",
    "            break\n",
    "        else:\n",
    "            out.append(vocab.lookup_index(index))\n",
    "    if return_string:\n",
    "        return \" \".join(out)   # \"word1 word2 word3\"\n",
    "    else:\n",
    "        return out    # [\"word1\", \"word2\", \"word3\"]\n",
    "    \n",
    "    \n",
    "class NMTSampler:\n",
    "    def __init__(self, vectorizer, model):\n",
    "        self.vectorizer = vectorizer\n",
    "        self.model = model\n",
    "        \n",
    "    def apply_to_batch(self, batch_dict):\n",
    "        self._last_batch = batch_dict\n",
    "        y_pred = self.model(x_source=batch_dict['x_source'],\n",
    "                           x_source_lengths=batch_dict['x_source_length'],\n",
    "                           target_sequence=batch_dict['x_target'])\n",
    "        self._last_batch['y_pred'] = y_pred\n",
    "        \n",
    "        attention_batched = np.stack(self.model.decoder._cached_p_attn).transpose(1,0,2)\n",
    "            # np.stack(self.model.decoder._cached_p_attn).shape: (target_seq_size, batch_size, source_seq_size)\n",
    "            # attention_batched.shape: (batch_size, target_seq_size, source_seq_size)\n",
    "        self._last_batch['attention'] = attention_batched\n",
    "        \n",
    "    def _get_source_sentence(self, index, return_string=True):\n",
    "        indices = self._last_batch['x_source'][index].cpu().detach().numpy()\n",
    "        return sentence_from_indices(indices, self.vectorizer.source_vocab, return_string=return_string)\n",
    "    \n",
    "    def _get_reference_sentence(self, index, return_string=True):\n",
    "        indices = self._last_batch['y_target'][index].cpu().detach().numpy()\n",
    "        return sentence_from_indices(indices, self.vectorizer.target_vocab, return_string=return_string)\n",
    "\n",
    "    def _get_sampled_sentence(self, index, return_string=True):\n",
    "        _, all_indices = torch.max(self._last_batch['y_pred'], dim=2)\n",
    "        sentence_indices = all_indices[index].cpu().detach().numpy()\n",
    "        return sentence_from_indices(sentence_indices, self.vectorizer.target_vocab, return_string=return_string)\n",
    "    \n",
    "    def get_ith_item(self, index, return_string=True):\n",
    "        output = {\"source\": self._get_source_sentence(index, return_string=return_string),\n",
    "                 \"reference\": self._get_reference_sentence(index, return_string=return_string),\n",
    "                 \"sampled\": self._get_sampled_sentence(index, return_string=return_string),\n",
    "                 \"attention\": self._last_batch['attention'][index]}\n",
    "        \n",
    "        reference = output['reference']\n",
    "        hypothesis = output['sampled']\n",
    "        \n",
    "        if not return_string:\n",
    "            reference = \" \".join(reference)\n",
    "            hypothesis = \" \".join(hypothesis)\n",
    "            \n",
    "        output['bleu-4'] = bleu_score.sentence_bleu(references=[reference], \n",
    "                                                    hypothesis=hypothesis, \n",
    "                                                    smoothing_function=chencherry.method1)\n",
    "        return output"
   ]
  },
  {
   "cell_type": "code",
   "execution_count": 137,
   "metadata": {},
   "outputs": [
    {
     "data": {
      "text/plain": [
       "(0.38613697479305775, 0.3819626352400194)"
      ]
     },
     "execution_count": 137,
     "metadata": {},
     "output_type": "execute_result"
    },
    {
     "data": {
      "image/png": "[encoded data removed]",
      "text/plain": [
       "<Figure size 432x288 with 1 Axes>"
      ]
     },
     "metadata": {
      "needs_background": "light"
     },
     "output_type": "display_data"
    }
   ],
   "source": [
    "model.load_state_dict(torch.load(train_state['model_filename']))\n",
    "\n",
    "model = model.eval().to(args.device)\n",
    "\n",
    "sampler = NMTSampler(vectorizer, model)\n",
    "\n",
    "dataset.set_split('test')\n",
    "batch_generator = generate_batches(dataset, batch_size=args.batch_size, device=args.device)\n",
    "\n",
    "test_results = []\n",
    "\n",
    "for batch_dict in batch_generator:\n",
    "    sampler.apply_to_batch(batch_dict)\n",
    "    for i in range(args.batch_size):\n",
    "        test_results.append(sampler.get_ith_item(i, False))\n",
    "        \n",
    "plt.hist([r['bleu-4'] for r in test_results], bins=100);\n",
    "np.mean([r['bleu-4'] for r in test_results]), np.median([r['bleu-4'] for r in test_results])"
   ]
  },
  {
   "cell_type": "markdown",
   "metadata": {},
   "source": [
    "# Inference"
   ]
  },
  {
   "cell_type": "code",
   "execution_count": 144,
   "metadata": {},
   "outputs": [
    {
     "data": {
      "text/plain": [
       "3"
      ]
     },
     "execution_count": 144,
     "metadata": {},
     "output_type": "execute_result"
    }
   ],
   "source": [
    "dataset.set_split('val')\n",
    "batch_generator = generate_batches(dataset, batch_size=args.batch_size, device=args.device)\n",
    "batch_dict = next(batch_generator)\n",
    "\n",
    "model = model.eval().to(args.device)\n",
    "sampler = NMTSampler(vectorizer, model)\n",
    "sampler.apply_to_batch(batch_dict)\n",
    "\n",
    "all_results = []\n",
    "for i in range(args.batch_size):\n",
    "    all_results.append(sampler.get_ith_item(i, False))\n",
    "    \n",
    "top_results = [x for x in all_results if x['bleu-4']>0.6][:3]\n",
    "len(top_results)"
   ]
  },
  {
   "cell_type": "code",
   "execution_count": 145,
   "metadata": {},
   "outputs": [
    {
     "data": {
      "text/plain": [
       "(['i', \"'m\", 'sorry', ',', 'i', 'forgot', 'to', 'do', 'my', 'homework', '.'],\n",
       " ['je',\n",
       "  'suis',\n",
       "  'désolé',\n",
       "  ',',\n",
       "  \"j'ai\",\n",
       "  'oublié',\n",
       "  'de',\n",
       "  'faire',\n",
       "  'mes',\n",
       "  'devoirs',\n",
       "  '.'],\n",
       " ['je',\n",
       "  'suis',\n",
       "  'désolé',\n",
       "  ',',\n",
       "  'je',\n",
       "  'déjà',\n",
       "  'de',\n",
       "  'vous',\n",
       "  'vous',\n",
       "  'devoirs',\n",
       "  '.'],\n",
       " (25, 14))"
      ]
     },
     "execution_count": 145,
     "metadata": {},
     "output_type": "execute_result"
    }
   ],
   "source": [
    "sample = top_results[0]\n",
    "sample['source'], sample['reference'], sample['sampled'], sample['attention'].shape"
   ]
  },
  {
   "cell_type": "code",
   "execution_count": 146,
   "metadata": {},
   "outputs": [
    {
     "data": {
      "image/png": "[encoded data removed]",
      "text/plain": [
       "<Figure size 432x288 with 2 Axes>"
      ]
     },
     "metadata": {
      "needs_background": "light"
     },
     "output_type": "display_data"
    },
    {
     "data": {
      "image/png": "[encoded data removed]",
      "text/plain": [
       "<Figure size 432x288 with 2 Axes>"
      ]
     },
     "metadata": {
      "needs_background": "light"
     },
     "output_type": "display_data"
    },
    {
     "data": {
      "image/png": "[encoded data removed]",
      "text/plain": [
       "<Figure size 432x288 with 2 Axes>"
      ]
     },
     "metadata": {
      "needs_background": "light"
     },
     "output_type": "display_data"
    }
   ],
   "source": [
    "for sample in top_results:\n",
    "    plt.figure()\n",
    "    target_len = len(sample['sampled'])\n",
    "    source_len = len(sample['source'])\n",
    "\n",
    "    attention_matrix = sample['attention'][:target_len, :source_len+2].transpose()#[::-1]\n",
    "        # sample['attention'].shape: (target_seq_size, source_seq_size)\n",
    "        # attention_matrix.shape: (source_seq_size, target_seq_size)\n",
    "    ax = sns.heatmap(attention_matrix, center=0.0)\n",
    "    ylabs = [\"<BOS>\"]+sample['source']+[\"<EOS>\"]\n",
    "    #ylabs = sample['source']\n",
    "    #ylabs = ylabs[::-1]\n",
    "    ax.set_yticklabels(ylabs, rotation=0)\n",
    "    ax.set_xticklabels(sample['sampled'], rotation=90)\n",
    "    ax.set_xlabel(\"Target Sentence\")\n",
    "    ax.set_ylabel(\"Source Sentence\\n\\n\")"
   ]
  }
 ],
 "metadata": {
  "kernelspec": {
   "display_name": "Python 3",
   "language": "python",
   "name": "python3"
  },
  "language_info": {
   "codemirror_mode": {
    "name": "ipython",
    "version": 3
   },
   "file_extension": ".py",
   "mimetype": "text/x-python",
   "name": "python",
   "nbconvert_exporter": "python",
   "pygments_lexer": "ipython3",
   "version": "3.8.3"
  }
 },
 "nbformat": 4,
 "nbformat_minor": 4
}
